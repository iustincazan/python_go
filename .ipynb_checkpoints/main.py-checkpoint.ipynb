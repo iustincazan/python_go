{
 "cells": [
  {
   "cell_type": "code",
   "execution_count": 1,
   "id": "4087930c",
   "metadata": {},
   "outputs": [],
   "source": [
    "from ctypes import *"
   ]
  },
  {
   "cell_type": "code",
   "execution_count": 2,
   "id": "c948536f",
   "metadata": {},
   "outputs": [],
   "source": [
    "# loading dynamic lib\n",
    "lib = cdll.LoadLibrary(\"main.dylib\")"
   ]
  },
  {
   "cell_type": "code",
   "execution_count": 3,
   "id": "927d2f47",
   "metadata": {},
   "outputs": [],
   "source": [
    "# go type\n",
    "class GoSlice(Structure):\n",
    "    _fields_ = [(\"data\", POINTER(c_void_p)), (\"len\", c_longlong), (\"cap\", c_longlong)]\n",
    "\n",
    "\n",
    "class Foo(Structure):\n",
    "    _fields_ = [('a', c_int),\n",
    "                ('b', c_int),\n",
    "                ('c', c_int),\n",
    "                ('d', c_int),\n",
    "                ('e', c_int),\n",
    "                ('f', c_int)]"
   ]
  },
  {
   "cell_type": "code",
   "execution_count": 4,
   "id": "b34a96bd",
   "metadata": {},
   "outputs": [],
   "source": [
    "lib.Foo.argtypes = [GoSlice]\n",
    "lib.Foo.restype = Foo"
   ]
  },
  {
   "cell_type": "code",
   "execution_count": 6,
   "id": "bd374d44",
   "metadata": {},
   "outputs": [],
   "source": [
    "t = GoSlice((c_void_p * 5)(1, 2, 3, 4, 5), 5, 5)\n",
    "f = lib.Foo(t)"
   ]
  },
  {
   "cell_type": "code",
   "execution_count": 7,
   "id": "67c814c7",
   "metadata": {},
   "outputs": [
    {
     "name": "stdout",
     "output_type": "stream",
     "text": [
      "<__main__.Foo object at 0x7fb7b5cb5440>\n",
      "1\n",
      "2\n"
     ]
    }
   ],
   "source": [
    "print(f)\n",
    "print(f.a)\n",
    "print(f.b)"
   ]
  },
  {
   "cell_type": "code",
   "execution_count": null,
   "id": "66ddf1db",
   "metadata": {},
   "outputs": [],
   "source": []
  }
 ],
 "metadata": {
  "kernelspec": {
   "display_name": "Python 3 (ipykernel)",
   "language": "python",
   "name": "python3"
  },
  "language_info": {
   "codemirror_mode": {
    "name": "ipython",
    "version": 3
   },
   "file_extension": ".py",
   "mimetype": "text/x-python",
   "name": "python",
   "nbconvert_exporter": "python",
   "pygments_lexer": "ipython3",
   "version": "3.9.13"
  }
 },
 "nbformat": 4,
 "nbformat_minor": 5
}
